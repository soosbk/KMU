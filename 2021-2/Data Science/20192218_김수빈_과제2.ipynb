{
  "nbformat": 4,
  "nbformat_minor": 0,
  "metadata": {
    "colab": {
      "name": "ch06.ipynb",
      "provenance": [],
      "collapsed_sections": []
    },
    "kernelspec": {
      "name": "python3",
      "display_name": "Python 3"
    },
    "language_info": {
      "name": "python"
    }
  },
  "cells": [
    {
      "cell_type": "markdown",
      "metadata": {
        "id": "po3ZvIQ7MEd8"
      },
      "source": [
        "Pytorch로 Logistic Regression 구현"
      ]
    },
    {
      "cell_type": "code",
      "metadata": {
        "colab": {
          "base_uri": "https://localhost:8080/"
        },
        "id": "GyxaWF73yrm_",
        "outputId": "7225d879-f6a2-4061-a379-f62c31ab878c"
      },
      "source": [
        "#학습 데이터 생성\n",
        "\n",
        "import torch\n",
        "\n",
        "x_train=torch.FloatTensor([[1],[2],[3],[4],[5],[2.5],[3.5],[0],[3.1],[2.7],[2.8],[2.9]])\n",
        "y_train=torch.FloatTensor([[1],[1],[1],[0],[0],[0],[0],[1],[0],[1],[1],[1]])\n",
        "\n",
        "#w,b 초기화\n",
        "#learning rate 설정\n",
        "\n",
        "w=torch.zeros(1,1) #0으로만 된 tensor\n",
        "b=torch.zeros(1,1)\n",
        "\n",
        "\n",
        "lr=1.0\n",
        "\n",
        "#반복횟수 설정\n",
        "#w,b의 requires_grad 를 true로 설정\n",
        "\n",
        "for epoch in range(3001):\n",
        "  w.requires_grad_(True) #기억, float\n",
        "  b.requires_grad_(True)\n",
        "\n",
        "\n",
        "\n",
        "\n",
        "#hypothesis, cost 설정\n",
        "\n",
        "hypothesis=torch.sigmoid(torch.mm(x_train,w)+b)\n",
        "cost=torch.mean(\n",
        "    -y_train*torch.log(hypothesis)\n",
        "    -(1-y_train)*torch.log(1-hypothesis)\n",
        ")\n",
        "\n",
        "\n",
        "#경사계산\n",
        "#w,b 업데이트\n",
        "\n",
        "cost.backward()\n",
        "with torch.no_grad() as grd:\n",
        "  w=w-lr*w.grad\n",
        "  b=b-lr*b.grad\n",
        "\n",
        "#학습이 잘 되는지 확인하기 위한 내용 출력\n",
        "if epoch%100==0:\n",
        "  print(\"epoch: {}, cost: {:.6f}, w: {:.6f}, b: {:.6f}\".format(epoch,cost.item(),w.squeeze(),b.squeeze())) #epoch: 3000, cost: 0.693147, w: -0.154167, b: 0.083333\n",
        "\n",
        "\n",
        "\n",
        "\n",
        "x_test=torch.FloatTensor([[4.5],[1.1]])\n",
        "test_result=torch.sigmoid(torch.mm(x_test,w)+b)\n",
        "print(torch.round(test_result))"
      ],
      "execution_count": 79,
      "outputs": [
        {
          "output_type": "stream",
          "name": "stdout",
          "text": [
            "epoch: 3000, cost: 0.693147, w: -0.154167, b: 0.083333\n",
            "tensor([[0.],\n",
            "        [0.]])\n"
          ]
        }
      ]
    },
    {
      "cell_type": "markdown",
      "metadata": {
        "id": "29VWx1ckL_Cc"
      },
      "source": [
        "여러가지 optimizer 사용해보기"
      ]
    },
    {
      "cell_type": "code",
      "metadata": {
        "colab": {
          "base_uri": "https://localhost:8080/"
        },
        "id": "cJ9Z4IMFKOs1",
        "outputId": "537c887c-0f2a-4081-8139-a40391db4e05"
      },
      "source": [
        "optimizer=torch.optim.SGD([w,b],lr=1.0)\n",
        "#optimizer=torch.optim.Adam([w,b],lr=1.0)\n",
        "#optimizer=torch.optim.Adadelta([w,b])\n",
        "#optimizer=torch.optim.Adagrad([w,b])\n",
        "#optimizer=torch.optim.RMSprop([w,b])\n",
        "\n",
        "#학습 데이터 생성\n",
        "\n",
        "import torch\n",
        "\n",
        "x_train=torch.FloatTensor([[1],[2],[3],[4],[5],[2.5],[3.5],[0],[3.1],[2.7],[2.8],[2.9]])\n",
        "y_train=torch.FloatTensor([[1],[1],[1],[0],[0],[0],[0],[1],[0],[1],[1],[1]])\n",
        "\n",
        "#w,b 초기화\n",
        "#learning rate 설정\n",
        "\n",
        "w=torch.zeros(1,1) #0으로만 된 tensor\n",
        "b=torch.zeros(1,1)\n",
        "\n",
        "lr=1.0\n",
        "\n",
        "#반복횟수 설정\n",
        "#w,b의 requires_grad 를 true로 설정\n",
        "\n",
        "for epoch in range(3001):\n",
        "  w.requires_grad_(True) #기억, float\n",
        "  b.requires_grad_(True)\n",
        "\n",
        "\n",
        "\n",
        "#hypothesis, cost 설정\n",
        "\n",
        "hypothesis=torch.sigmoid(torch.mm(x_train,w)+b)\n",
        "cost=torch.mean(\n",
        "    -y_train*torch.log(hypothesis)\n",
        "    -(1-y_train)*torch.log(1-hypothesis)\n",
        ")\n",
        "\n",
        "\n",
        "#경사계산\n",
        "#w,b 업데이트\n",
        "optimizer.zero_grad()\n",
        "cost.backward()\n",
        "optimizer.step()\n",
        "\n",
        "\n",
        "#학습이 잘 되는지 확인하기 위한 내용 출력\n",
        "if epoch%100==0:\n",
        "  print(\"epoch: {}, cost: {:.6f}, w: {:.6f}, b: {:.6f}\".format(epoch,cost.item(),w.squeeze(),b.squeeze())) #epoch: 3000, cost: 0.693147, w: -0.154167, b: 0.083333\n",
        "\n",
        "\n",
        "#x=[4.5] or [1.1] 일때, y=0? y=1?\n",
        "x_test=torch.FloatTensor([[4.5],[1.1]])\n",
        "test_result=torch.sigmoid(torch.mm(x_test,w)+b)\n",
        "print(torch.round(test_result))\n"
      ],
      "execution_count": 80,
      "outputs": [
        {
          "output_type": "stream",
          "name": "stdout",
          "text": [
            "epoch: 3000, cost: 0.693147, w: 0.000000, b: 0.000000\n",
            "tensor([[0.],\n",
            "        [0.]], grad_fn=<RoundBackward>)\n"
          ]
        }
      ]
    },
    {
      "cell_type": "markdown",
      "metadata": {
        "id": "XHKut9NlLf0r"
      },
      "source": [
        "Matplotlib 으로 결과 시각화"
      ]
    },
    {
      "cell_type": "code",
      "metadata": {
        "colab": {
          "base_uri": "https://localhost:8080/",
          "height": 296
        },
        "id": "Ujc-AkMOVHHf",
        "outputId": "d4693c8b-66c5-467b-b53f-51bd93ba5a80"
      },
      "source": [
        "\n",
        "\n",
        "import torch\n",
        "import matplotlib.pyplot as plt\n",
        "#학습 데이터 생성\n",
        "\n",
        "\n",
        "x_train=torch.FloatTensor([[1],[2],[3],[4],[5],[2.5],[3.5],[0],[3.1],[2.7],[2.8],[2.9]])\n",
        "y_train=torch.FloatTensor([[1],[1],[1],[0],[0],[0],[0],[1],[0],[1],[1],[1]])\n",
        "\n",
        "#w,b 초기화\n",
        "#learning rate 설정\n",
        "\n",
        "w=torch.zeros(1,1) #0으로만 된 tensor\n",
        "b=torch.zeros(1,1)\n",
        "\n",
        "\n",
        "lr=1.0\n",
        "\n",
        "#반복횟수 설정\n",
        "#w,b의 requires_grad 를 true로 설정\n",
        "\n",
        "for epoch in range(3001):\n",
        "  w.requires_grad_(True) #기억, float\n",
        "  b.requires_grad_(True)\n",
        "\n",
        "\n",
        "\n",
        "\n",
        "#hypothesis, cost 설정\n",
        "\n",
        "hypothesis=torch.sigmoid(torch.mm(x_train,w)+b)\n",
        "cost=torch.mean(\n",
        "    -y_train*torch.log(hypothesis)\n",
        "    -(1-y_train)*torch.log(1-hypothesis)\n",
        ")\n",
        "\n",
        "\n",
        "#경사계산\n",
        "#w,b 업데이트\n",
        "\n",
        "cost.backward()\n",
        "with torch.no_grad() as grd:\n",
        "  w=w-lr*w.grad\n",
        "  b=b-lr*b.grad\n",
        "\n",
        "#학습이 잘 되는지 확인하기 위한 내용 출력\n",
        "if epoch%100==0:\n",
        "  print(\"epoch: {}, cost: {:.6f}, w: {:.6f}, b: {:.6f}\".format(epoch,cost.item(),w.squeeze(),b.squeeze())) #epoch: 3000, cost: 0.693147, w: -0.154167, b: 0.083333\n",
        "\n",
        "\n",
        "\n",
        "\n",
        "w.requires_grad_(False)\n",
        "b.requires_grad_(False)\n",
        "\n",
        "plt.scatter(x_train,y_train)\n",
        "\n",
        "X=torch.linspace(0,5,100).unsqueeze(1)\n",
        "Y=torch.sigmoid(torch.mm(X,w)+b)\n",
        "\n",
        "plt.ylabel(\"Probability of 1 (Y) \")\n",
        "plt.xlabel(\"Input (X) \")\n",
        "plt.scatter(x_train,y_train,c=\"black\",label=\"Training data\")\n",
        "\n",
        "plt.plot(X,Y,c=\"#ff0000\",label=\"Fitting line\")\n",
        "plt.legend()\n",
        "plt.show()"
      ],
      "execution_count": 81,
      "outputs": [
        {
          "output_type": "stream",
          "name": "stdout",
          "text": [
            "epoch: 3000, cost: 0.693147, w: -0.154167, b: 0.083333\n"
          ]
        },
        {
          "output_type": "display_data",
          "data": {
            "image/png": "[encoded data removed]",
            "text/plain": [
              "<Figure size 432x288 with 1 Axes>"
            ]
          },
          "metadata": {
            "needs_background": "light"
          }
        }
      ]
    },
    {
      "cell_type": "code",
      "metadata": {
        "colab": {
          "base_uri": "https://localhost:8080/",
          "height": 313
        },
        "id": "m1JrrUCpVm70",
        "outputId": "2546b84e-4b1b-4346-ebc3-8e84b568dc89"
      },
      "source": [
        "from sklearn.linear_model import LogisticRegression\n",
        "import matplotlib.pyplot as plt\n",
        "\n",
        "x_train=[[1],[2],[3],[4],[5],[2.5],[3.5],[0],[3.1],[2.7],[2.8],[2.9]]\n",
        "y_train=[1,1,1,0,0,0,0,1,0,1,1,1] #입력 shape이 pytorch에서와 다름에 주의!\n",
        "\n",
        "model=LogisticRegression(penalty='none')\n",
        "#penalty or regularization은 추후 설명\n",
        "model.fit(x_train,y_train)\n",
        "\n",
        "#w와 b에 해당하는 값 출력\n",
        "print(model.coef_,model.intercept_)\n",
        "\n",
        "#새로운 x값이 주어질 때, y값 예측해보기\n",
        "x_test=[[4.5],[1.1]]\n",
        "test_result=model.predict(x_test)\n",
        "print(test_result)\n",
        "\n",
        "plt.ylabel(\"Probability of 1 (Y) \")\n",
        "plt.xlabel(\"Input (X) \")\n",
        "plt.scatter(x_train,y_train,c=\"black\",label=\"Training data\")\n",
        "\n",
        "plt.plot(X,Y,c=\"#ff0000\",label=\"Fitting line\")\n",
        "plt.legend()\n",
        "plt.show()"
      ],
      "execution_count": 83,
      "outputs": [
        {
          "output_type": "stream",
          "name": "stdout",
          "text": [
            "[[-3.10385806]] [9.39776831]\n",
            "[0 1]\n"
          ]
        },
        {
          "output_type": "display_data",
          "data": {
            "image/png": "[encoded data removed]",
            "text/plain": [
              "<Figure size 432x288 with 1 Axes>"
            ]
          },
          "metadata": {
            "needs_background": "light"
          }
        }
      ]
    }
  ]
}