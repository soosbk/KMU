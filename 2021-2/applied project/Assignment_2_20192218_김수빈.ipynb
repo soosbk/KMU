{
  "nbformat": 4,
  "nbformat_minor": 5,
  "metadata": {
    "kernelspec": {
      "display_name": "Python 3 (ipykernel)",
      "language": "python",
      "name": "python3"
    },
    "language_info": {
      "codemirror_mode": {
        "name": "ipython",
        "version": 3
      },
      "file_extension": ".py",
      "mimetype": "text/x-python",
      "name": "python",
      "nbconvert_exporter": "python",
      "pygments_lexer": "ipython3",
      "version": "3.9.7"
    },
    "colab": {
      "name": "Assignment_2_20192218_김수빈.ipynb",
      "provenance": [],
      "collapsed_sections": []
    }
  },
  "cells": [
    {
      "cell_type": "code",
      "metadata": {
        "id": "ce3fbc7a-0eae-45a7-b337-16951bdace6f"
      },
      "source": [
        "import numpy as np\n",
        "import scipy.stats as stats\n",
        "import matplotlib.pyplot as plt"
      ],
      "id": "ce3fbc7a-0eae-45a7-b337-16951bdace6f",
      "execution_count": 59,
      "outputs": []
    },
    {
      "cell_type": "markdown",
      "metadata": {
        "id": "afa03c6f-8740-410f-8479-c03db2bd72d7"
      },
      "source": [
        "## 1. 중심극한정리 (central limit theorem)"
      ],
      "id": "afa03c6f-8740-410f-8479-c03db2bd72d7"
    },
    {
      "cell_type": "code",
      "metadata": {
        "colab": {
          "base_uri": "https://localhost:8080/",
          "height": 265
        },
        "id": "WEUk7U451tMH",
        "outputId": "77f8df55-190d-41b6-a501-1c5c348a3bfb"
      },
      "source": [
        "# (1) 이항분포 확률분포 (N=10, p=0.2) 객체 정의 및 확률분포함수를 plot\n",
        "n,p=10,0.2\n",
        "binomial=stats.binom(n,p) #이항분포 확률분포 객체 선언\n",
        "x_axis=np.arange(n+1)\n",
        "y_axis=binomial.pmf(x_axis) #확률분포함수 \n",
        "plt.plot(x_axis,y_axis) #plot\n",
        "plt.show()"
      ],
      "id": "WEUk7U451tMH",
      "execution_count": 60,
      "outputs": [
        {
          "output_type": "display_data",
          "data": {
            "image/png": "[encoded data removed]",
            "text/plain": [
              "<Figure size 432x288 with 1 Axes>"
            ]
          },
          "metadata": {
            "needs_background": "light"
          }
        }
      ]
    },
    {
      "cell_type": "code",
      "metadata": {
        "id": "649df615-2dac-4117-8140-731ec3b1d9c9",
        "colab": {
          "base_uri": "https://localhost:8080/"
        },
        "outputId": "cd546358-7d6a-4b56-90c6-56288adb026b"
      },
      "source": [
        "# (2) 이항분포 확률분포의 객체와 표본 크기 N_samples를 입력변수로 받아, 표본평균을 생성하는 함수를 구현\n",
        "# rvs함수의 size 인자를 이용할것\n",
        "\n",
        "def generate_sample_mean(distrib, N_samples=50):\n",
        "    sample_data=distrib.rvs(size=N_samples)\n",
        "    mean_value=sample_data.mean()\n",
        "    return mean_value\n",
        "    \n",
        "print(generate_sample_mean(binomial, 50))\n"
      ],
      "id": "649df615-2dac-4117-8140-731ec3b1d9c9",
      "execution_count": 138,
      "outputs": [
        {
          "output_type": "stream",
          "name": "stdout",
          "text": [
            "2.28\n"
          ]
        }
      ]
    },
    {
      "cell_type": "code",
      "metadata": {
        "id": "a5dfdc1b-bd2f-47a7-adef-45cc53523bfb",
        "colab": {
          "base_uri": "https://localhost:8080/",
          "height": 813
        },
        "outputId": "a643665a-b887-4a12-90d2-11f6d2e897ac"
      },
      "source": [
        "# (3) 표본평균을 10000개 생성하여 히스토그램을 (bin개수 50개) 표시. N_samples를 10개, 50개, 500개로 시도\n",
        "\n",
        "test_case=[10,50,500]\n",
        "\n",
        "for test_num in test_case:\n",
        "  x_bars = [generate_sample_mean(binomial,test_num) for _ in range(10000)]\n",
        "\n",
        "  plt.figure(0)\n",
        "  plt.hist(x_bars, bins=50)\n",
        "  plt.show()\n",
        "  print('N_samples='+str(test_num), (np.mean(x_bars), np.std(x_bars)))\n",
        "\n",
        "\n"
      ],
      "id": "a5dfdc1b-bd2f-47a7-adef-45cc53523bfb",
      "execution_count": 105,
      "outputs": [
        {
          "output_type": "display_data",
          "data": {
            "image/png": "[encoded data removed]",
            "text/plain": [
              "<Figure size 432x288 with 1 Axes>"
            ]
          },
          "metadata": {
            "needs_background": "light"
          }
        },
        {
          "output_type": "stream",
          "name": "stdout",
          "text": [
            "N_samples=10 (2.0103299999999997, 0.4001378401251249)\n"
          ]
        },
        {
          "output_type": "display_data",
          "data": {
            "image/png": "[encoded data removed]",
            "text/plain": [
              "<Figure size 432x288 with 1 Axes>"
            ]
          },
          "metadata": {
            "needs_background": "light"
          }
        },
        {
          "output_type": "stream",
          "name": "stdout",
          "text": [
            "N_samples=50 (1.9981199999999997, 0.1803921993878893)\n"
          ]
        },
        {
          "output_type": "display_data",
          "data": {
            "image/png": "[encoded data removed]",
            "text/plain": [
              "<Figure size 432x288 with 1 Axes>"
            ]
          },
          "metadata": {
            "needs_background": "light"
          }
        },
        {
          "output_type": "stream",
          "name": "stdout",
          "text": [
            "N_samples=500 (2.0002951999999996, 0.057142300067113155)\n"
          ]
        }
      ]
    },
    {
      "cell_type": "code",
      "metadata": {
        "id": "43d697b0-6078-45ae-98a8-e03aae912952",
        "colab": {
          "base_uri": "https://localhost:8080/",
          "height": 530
        },
        "outputId": "1a31b9d2-7069-4f49-f381-9251e0af6db4"
      },
      "source": [
        "# (4) 다른 확률분포 (stats.distributions) 에서 생성된 표본평균의 분포도 볼 수 있다.\n",
        "from scipy.stats import beta\n",
        "from numpy import linspace\n",
        "a, b = 7.028720,2.971280\n",
        "beta_dist=beta(a,b)\n",
        "x = np.linspace(beta.ppf(0.0, a, b),\n",
        "                beta.ppf(1.0, a, b), 50)\n",
        "plt.plot(x,beta_dist.pdf(x))\n",
        "plt.show()\n",
        "\n",
        "x_bars = [beta_dist.rvs(size=50).mean() for _ in range(10000)]\n",
        "\n",
        "plt.hist(x_bars, bins=50)\n",
        "plt.show()\n",
        "print('N_samples=50', (np.mean(x_bars), np.std(x_bars)))\n"
      ],
      "id": "43d697b0-6078-45ae-98a8-e03aae912952",
      "execution_count": 112,
      "outputs": [
        {
          "output_type": "display_data",
          "data": {
            "image/png": "[encoded data removed]",
            "text/plain": [
              "<Figure size 432x288 with 1 Axes>"
            ]
          },
          "metadata": {
            "needs_background": "light"
          }
        },
        {
          "output_type": "display_data",
          "data": {
            "image/png": "[encoded data removed]",
            "text/plain": [
              "<Figure size 432x288 with 1 Axes>"
            ]
          },
          "metadata": {
            "needs_background": "light"
          }
        },
        {
          "output_type": "stream",
          "name": "stdout",
          "text": [
            "N_samples=50 (0.7029777875847121, 0.01948411193342111)\n"
          ]
        }
      ]
    },
    {
      "cell_type": "markdown",
      "metadata": {
        "id": "c0c6e952-cfb7-482a-8b4f-4e39d4956e04"
      },
      "source": [
        "## 2. 모수 구간추정 및 가설검정 (confidence interval and hypothesis test)"
      ],
      "id": "c0c6e952-cfb7-482a-8b4f-4e39d4956e04"
    },
    {
      "cell_type": "code",
      "metadata": {
        "id": "955334b0-a812-4a93-a603-faf0111ba838",
        "colab": {
          "base_uri": "https://localhost:8080/",
          "height": 565
        },
        "outputId": "b3238c84-7d40-48c2-e543-5c553415c292"
      },
      "source": [
        "# (1) 데이터 읽어오기 및 원하는 데이터 열 단위로 추출하기, 시각화\n",
        "# 육군 신체측정 정보 (https://www.data.go.kr/data/15083227/fileData.do)\n",
        "data = np.genfromtxt('./army_phexam_data.csv' ,encoding='cp949', delimiter = ',',dtype=None )\n",
        "#ipynb파일과 csv 파일을 같은 폴더에 놓고 진행하였습니다.\n",
        "print('데이터의 수:', len(data)-1)\n",
        "\n",
        "height_data=data[1:,4]\n",
        "weight_data=data[1:,-1]\n",
        "\n",
        "height=np.zeros_like(height_data)\n",
        "weight=np.zeros_like(weight_data)\n",
        "for idx in range(len(height_data)): \n",
        "  height[idx]=height_data[idx].strip('\"').rstrip(\" cm\")\n",
        "height=height.astype(np.float64)\n",
        "for idx in range(len(weight_data)): \n",
        "  weight[idx]=weight_data[idx].strip('\"').rstrip(\" kg\")\n",
        "\n",
        "weight=weight.astype(np.float64)\n",
        "print('키 평균:', height.mean(), ', 표준편차:', height.std())\n",
        "plt.hist(height,20)\n",
        "plt.show()\n",
        "\n",
        "print('몸무게 평균:', weight.mean(), ', 표준편차:', weight.std())\n",
        "plt.hist(weight,20)\n",
        "plt.show()\n"
      ],
      "id": "955334b0-a812-4a93-a603-faf0111ba838",
      "execution_count": 139,
      "outputs": [
        {
          "output_type": "stream",
          "name": "stdout",
          "text": [
            "데이터의 수: 167954\n",
            "키 평균: 174.69018898031607 , 표준편차: 5.448833013622449\n"
          ]
        },
        {
          "output_type": "display_data",
          "data": {
            "image/png": "[encoded data removed]",
            "text/plain": [
              "<Figure size 432x288 with 1 Axes>"
            ]
          },
          "metadata": {
            "needs_background": "light"
          }
        },
        {
          "output_type": "stream",
          "name": "stdout",
          "text": [
            "몸무게 평균: 72.16640407492528 , 표준편차: 13.713571398740728\n"
          ]
        },
        {
          "output_type": "display_data",
          "data": {
            "image/png": "[encoded data removed]",
            "text/plain": [
              "<Figure size 432x288 with 1 Axes>"
            ]
          },
          "metadata": {
            "needs_background": "light"
          }
        }
      ]
    },
    {
      "cell_type": "code",
      "metadata": {
        "id": "72f05fe9-94f5-4e4f-acf1-0f8d928a6573",
        "colab": {
          "base_uri": "https://localhost:8080/",
          "height": 122
        },
        "outputId": "856b7462-6d0c-419e-e1fe-976ee87bcb9f"
      },
      "source": [
        "# (2) 데이터에서 마지막 10000명을 선택하여 구간추정을 수행 후 분석\n",
        "\n",
        "\n",
        "new_height_data=height[len(height)-10000:]\n",
        "\n",
        "new_weight_data=weight[len(weight)-10000:]\n",
        "\n",
        "\n",
        "print(stats.norm.interval(0.99,loc=np.mean(new_height_data),scale=stats.sem(new_height_data)))\n",
        "print(stats.norm.interval(0.99,loc=np.mean(new_weight_data),scale=stats.sem(new_weight_data)))\n",
        "\n",
        "# 전체 데이터에서 구한 평균치가 추정한 구간안에 들어가는가? 들어가지 않는다면 그 이유를 분석하면?\n",
        "''' 분석:\n",
        "신장의 경우에는 구간 안에 들어가나,  몸무게는 들어가지 않는다.\n",
        "\n",
        "표본을 추출할 때, 표본오차를 고려한 표본 크기를 선정해서 추출해야한다.\n",
        "\n",
        "이때, 신장은 표본 오차를 잘 고려하였으나, \n",
        "몸무게의 경우에는 표본오차로 구한 표본의 크기보다 작은 크기로 추출하여, \n",
        "추정된 구간내에 들어가지 않는 것으로 분석된다. 신장의 표준편차보다 몸무게의 표준편차가 훨씬크다.\n",
        "\n",
        "표본오차= (2.58)*모분산/SQRT(표본수)의 식을 이용하는 경우,  \n",
        "\n",
        "신장의 표본오차는 약 0.14이며, 몸무게의 표본오차는 약 0.35이다.\n",
        "이것을 이용해 권장되는 포본의 크기를 구해보면, \n",
        "신장은 약 10000명이고, 몸무게는 약 10200명 정도로 \n",
        "몸무게는 실제 뽑은 표본 수보다 크다. \n",
        "따라서 추정된 구간안에 들어가지 않는다.'''"
      ],
      "id": "72f05fe9-94f5-4e4f-acf1-0f8d928a6573",
      "execution_count": 125,
      "outputs": [
        {
          "output_type": "stream",
          "name": "stdout",
          "text": [
            "(174.65694231834004, 174.9367176816599)\n",
            "(72.46031277152855, 73.16458722847145)\n"
          ]
        },
        {
          "output_type": "execute_result",
          "data": {
            "application/vnd.google.colaboratory.intrinsic+json": {
              "type": "string"
            },
            "text/plain": [
              "' 분석:\\n신장의 경우에는 구간 안에 들어가나,  몸무게는 들어가지 않는다.\\n\\n표본을 추출할 때, 표본오차를 고려한 표본 크기를 선정해서 추출해야한다.\\n\\n이때, 신장은 표본 오차를 잘 고려하였으나, \\n몸무게의 경우에는 표본오차로 구한 표본의 크기보다 작은 크기로 추출하여, \\n추정된 구간내에 들어가지 않는 것으로 분석된다. 신장의 표준편차보다 몸무게의 표준편차가 훨씬크다.\\n\\n표본오차= (2.58)*모분산/SQRT(표본수)의 식을 이용하는 경우,  \\n\\n신장의 표본오차는 약 0.14이며, 몸무게의 표본오차는 약 0.35이다.\\n이것을 이용해 권장되는 포본의 크기를 구해보면, \\n신장은 약 10000명이고, 몸무게는 약 10200명 정도로 \\n몸무게는 실제 뽑은 표본 수보다 크다. \\n따라서 추정된 구간안에 들어가지 않는다.'"
            ]
          },
          "metadata": {},
          "execution_count": 125
        }
      ]
    },
    {
      "cell_type": "code",
      "metadata": {
        "id": "7d814eb5-7dbf-4b89-ba72-638c4d1fb128",
        "colab": {
          "base_uri": "https://localhost:8080/"
        },
        "outputId": "9377d606-4a80-491e-e09f-1f8aadfc9476"
      },
      "source": [
        "# (3) 데이터에서 마지막 30명을 선택하여 구간추정 수행 후 분석\n",
        "\n",
        "new_height_data2=height[len(height)-30:]\n",
        "\n",
        "new_weight_data2=weight[len(weight)-30:]\n",
        "print(stats.t.interval(0.99,30,loc=np.mean(new_height_data2),scale=stats.sem(new_height_data2)))\n",
        "print(stats.t.interval(0.99,30,loc=np.mean(new_weight_data2),scale=stats.sem(new_weight_data2)))\n",
        "\n"
      ],
      "id": "7d814eb5-7dbf-4b89-ba72-638c4d1fb128",
      "execution_count": 116,
      "outputs": [
        {
          "output_type": "stream",
          "name": "stdout",
          "text": [
            "(172.40003176106242, 176.70663490560432)\n",
            "(66.561374227541, 79.49862577245901)\n"
          ]
        }
      ]
    },
    {
      "cell_type": "code",
      "metadata": {
        "colab": {
          "base_uri": "https://localhost:8080/",
          "height": 70
        },
        "id": "iDYbc87ldhJV",
        "outputId": "14da8dd9-7010-4998-bee7-f1ccebc5e68c"
      },
      "source": [
        "# (4) 데이터에서 2013년, 2016년에 측정된 체중값을 추출 후, 가설 검정 (H0:mu=mu_0, H1:mu>mu_0)\n",
        "\n",
        "import pandas as pd\n",
        "csv_data=pd.read_csv(\"./army_phexam_data.csv\",encoding='cp949')\n",
        "data_2013=csv_data[csv_data[\"측정 일자\"]==2013]\n",
        "weight_2013=data_2013[\"몸무게\"].to_numpy()\n",
        "mu_0=np.mean(weight_2013)\n",
        "data_2016=csv_data[(csv_data[\"측정 일자\"]>=20160000) & (csv_data[\"측정 일자\"]<20170000)]\n",
        "sample_d=data_2016[len(data_2016)-1000:]['몸무게']\n",
        "\n",
        "\n",
        "print(stats.ttest_1samp(sample_d,mu_0))\n",
        "\n",
        "# 귀무가설과 대립가설 중 어느 가설을 채택하고 기각해야 할까?\n",
        "'''\n",
        "귀무가설:\n",
        "\n",
        "mu=71.79189644815627\n",
        "\n",
        "대립가설:\n",
        "\n",
        "mu>71.79189644815627 (단측 검정)\n",
        "\n",
        "이다.\n",
        "\n",
        "결과값은 검정통계량=2.3304940285241673, pvalue=0.019978376430331093이다.\n",
        "\n",
        "p-value가 약 0.02가 나왔다. \n",
        "p-value가 0.05보다 작기 때문에 귀무가설을 기각하고 대립가설을 채택해야한다.\n",
        "'''"
      ],
      "id": "iDYbc87ldhJV",
      "execution_count": 133,
      "outputs": [
        {
          "output_type": "stream",
          "name": "stdout",
          "text": [
            "Ttest_1sampResult(statistic=2.3304940285241673, pvalue=0.019978376430331093)\n"
          ]
        },
        {
          "output_type": "execute_result",
          "data": {
            "application/vnd.google.colaboratory.intrinsic+json": {
              "type": "string"
            },
            "text/plain": [
              "'\\n귀무가설:\\n\\nmu=71.79189644815627\\n\\n대립가설:\\n\\nmu>71.79189644815627 (단측 검정)\\n\\n이다.\\n\\n결과값은 검정통계량=2.3304940285241673, pvalue=0.019978376430331093이다.\\n\\np-value가 약 0.02가 나왔다. \\np-value가 0.05보다 작기 때문에 귀무가설을 기각하고 대립가설을 채택해야한다.\\n'"
            ]
          },
          "metadata": {},
          "execution_count": 133
        }
      ]
    },
    {
      "cell_type": "code",
      "metadata": {
        "id": "7ff66d89-3bc1-40dc-bcfa-9263575e210a",
        "colab": {
          "base_uri": "https://localhost:8080/",
          "height": 539
        },
        "outputId": "9ab9b392-08bc-4c25-9b58-4949cbd78cb5"
      },
      "source": [
        "# (5) 상관관계 분석 (키,몸무게), (키, 발 길이), (머리 둘레, 몸무게), ...\n",
        "col_name=list(pd.DataFrame(csv_data))\n",
        "data_np=csv_data.to_numpy()\n",
        "pearson_corr=[] #for 분석\n",
        "\n",
        "for i in range(2,len(col_name)-1):\n",
        "  for j in range(i+1,len(col_name)):\n",
        "    corr = np.corrcoef(data_np[:,i],data_np[:,j],rowvar=False)[1,0]\n",
        "    pearson_corr.append([(col_name[i],col_name[j]),corr])\n",
        "    print(col_name[i],\"와 \",col_name[j],\"의 상관계수: \",corr)\n",
        "\n",
        "sorted_list=sorted(pearson_corr, key=lambda x : x[1]) #상관관계를 기준으로 sort\n",
        "\n",
        "# 상관관계가 가장 큰 변수쌍과 가장 낮은 변수쌍은?\n",
        "''' \n",
        "상관관계가 가장 큰 변수쌍: ('소매길이', '신장') 약 0.99\n",
        "상관관계가 가장 낮은 변수쌍: ('소매길이', '머리 둘레') 약 0.15\n",
        "pearson 상관계수는 0과 1 사이의 값을 가지기 때문에 \n",
        "1에 가까운 ('소매길이', '신장') 변수쌍은 상관성이 높으며 ('소매길이', '머리 둘레')은 상관관계가 낮다\n",
        "'''\n"
      ],
      "id": "7ff66d89-3bc1-40dc-bcfa-9263575e210a",
      "execution_count": 137,
      "outputs": [
        {
          "output_type": "stream",
          "name": "stdout",
          "text": [
            "가슴 둘레 와  소매길이 의 상관계수:  0.2560452797997786\n",
            "가슴 둘레 와  신장 의 상관계수:  0.2570671759959904\n",
            "가슴 둘레 와  허리 둘레 의 상관계수:  0.8558243235639508\n",
            "가슴 둘레 와  샅높이 의 상관계수:  0.36257240050984085\n",
            "가슴 둘레 와  머리 둘레 의 상관계수:  0.3790241533277269\n",
            "가슴 둘레 와  발 길이 의 상관계수:  0.26340331470710454\n",
            "가슴 둘레 와  몸무게 의 상관계수:  0.8937497511786289\n",
            "소매길이 와  신장 의 상관계수:  0.9947892913045036\n",
            "소매길이 와  허리 둘레 의 상관계수:  0.20611256365899924\n",
            "소매길이 와  샅높이 의 상관계수:  0.7721188053593292\n",
            "소매길이 와  머리 둘레 의 상관계수:  0.15643213262325686\n",
            "소매길이 와  발 길이 의 상관계수:  0.5421523874315792\n",
            "소매길이 와  몸무게 의 상관계수:  0.40107663496082163\n",
            "신장 와  허리 둘레 의 상관계수:  0.2069798507075679\n",
            "신장 와  샅높이 의 상관계수:  0.7763837668198087\n",
            "신장 와  머리 둘레 의 상관계수:  0.1575778862236252\n",
            "신장 와  발 길이 의 상관계수:  0.5452043682562919\n",
            "신장 와  몸무게 의 상관계수:  0.40303780259297695\n",
            "허리 둘레 와  샅높이 의 상관계수:  0.36489602699780854\n",
            "허리 둘레 와  머리 둘레 의 상관계수:  0.3712912104267047\n",
            "허리 둘레 와  발 길이 의 상관계수:  0.24167596465245814\n",
            "허리 둘레 와  몸무게 의 상관계수:  0.8697753745890917\n",
            "샅높이 와  머리 둘레 의 상관계수:  0.2102497488620404\n",
            "샅높이 와  발 길이 의 상관계수:  0.47631839328738307\n",
            "샅높이 와  몸무게 의 상관계수:  0.49093664632396716\n",
            "머리 둘레 와  발 길이 의 상관계수:  0.24315705639101015\n",
            "머리 둘레 와  몸무게 의 상관계수:  0.3602768926667982\n",
            "발 길이 와  몸무게 의 상관계수:  0.3446607321451017\n"
          ]
        },
        {
          "output_type": "execute_result",
          "data": {
            "application/vnd.google.colaboratory.intrinsic+json": {
              "type": "string"
            },
            "text/plain": [
              "\" \\n상관관계가 가장 큰 변수쌍: ('소매길이', '신장') 약 0.99\\n상관관계가 가장 낮은 변수쌍: ('소매길이', '머리 둘레') 약 0.15\\npearson 상관계수는 0과 1 사이의 값을 가지기 때문에 \\n1에 가까운 ('소매길이', '신장') 변수쌍은 상관성이 높으며 ('소매길이', '머리 둘레')은 상관관계가 낮다\\n\""
            ]
          },
          "metadata": {},
          "execution_count": 137
        }
      ]
    },
    {
      "cell_type": "code",
      "metadata": {
        "id": "fd6332cc-e924-48fd-adc7-8dcf080836f1"
      },
      "source": [
        "####################################################"
      ],
      "id": "fd6332cc-e924-48fd-adc7-8dcf080836f1",
      "execution_count": null,
      "outputs": []
    },
    {
      "cell_type": "code",
      "metadata": {
        "id": "74d945c7-c350-4455-9c5b-3832e937c46d"
      },
      "source": [
        ""
      ],
      "id": "74d945c7-c350-4455-9c5b-3832e937c46d",
      "execution_count": null,
      "outputs": []
    }
  ]
}