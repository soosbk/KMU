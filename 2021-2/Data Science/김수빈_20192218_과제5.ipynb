{
  "nbformat": 4,
  "nbformat_minor": 0,
  "metadata": {
    "colab": {
      "name": "김수빈_20192218_과제5.ipynb",
      "provenance": [],
      "collapsed_sections": []
    },
    "kernelspec": {
      "name": "python3",
      "display_name": "Python 3"
    },
    "language_info": {
      "name": "python"
    }
  },
  "cells": [
    {
      "cell_type": "markdown",
      "metadata": {
        "id": "ESLYfPwjW6ai"
      },
      "source": [
        "Colab에서 구글드라이브 연결하기"
      ]
    },
    {
      "cell_type": "code",
      "metadata": {
        "colab": {
          "base_uri": "https://localhost:8080/"
        },
        "id": "pwmXVHFPSJfL",
        "outputId": "efd82da0-901a-44a1-a243-cbe59f1e08ef"
      },
      "source": [
        "#Colab 에서 구글 드라이브 연결하기\n",
        "\n",
        "from google.colab import drive\n",
        "drive.mount('/content/gdrive')\n"
      ],
      "execution_count": 66,
      "outputs": [
        {
          "output_type": "stream",
          "name": "stdout",
          "text": [
            "Drive already mounted at /content/gdrive; to attempt to forcibly remount, call drive.mount(\"/content/gdrive\", force_remount=True).\n"
          ]
        }
      ]
    },
    {
      "cell_type": "code",
      "metadata": {
        "colab": {
          "base_uri": "https://localhost:8080/"
        },
        "id": "IouiDRW8W3dy",
        "outputId": "3189f776-d612-413b-89d3-abaa18069a39"
      },
      "source": [
        "\n",
        "#파일 확인\n",
        "!ls \"/content/gdrive/My Drive/ml-100k\""
      ],
      "execution_count": 67,
      "outputs": [
        {
          "output_type": "stream",
          "name": "stdout",
          "text": [
            "allbut.pl  u1.base  u2.test  u4.base  u5.test  ub.base\tu.genre  u.occupation\n",
            "mku.sh\t   u1.test  u3.base  u4.test  ua.base  ub.test\tu.info\t u.user\n",
            "README\t   u2.base  u3.test  u5.base  ua.test  u.data\tu.item\n"
          ]
        }
      ]
    },
    {
      "cell_type": "markdown",
      "metadata": {
        "id": "UA3XY5cCXAEf"
      },
      "source": [
        "Pytorch 사용하기"
      ]
    },
    {
      "cell_type": "code",
      "metadata": {
        "id": "x_TV0SMGWPTt"
      },
      "source": [
        "#필요한 모듈 import 하기\n",
        "import torch\n",
        "import pandas as pd\n",
        "import torch.nn.functional as F\n",
        "import matplotlib.pyplot as plt"
      ],
      "execution_count": 68,
      "outputs": []
    },
    {
      "cell_type": "markdown",
      "metadata": {
        "id": "V7SyYNW2XFOc"
      },
      "source": [
        "파일 불러오기"
      ]
    },
    {
      "cell_type": "code",
      "metadata": {
        "id": "MyY8wdB3XGrP"
      },
      "source": [
        "#판다스를 이용해 파일 불러오기\n",
        "\n",
        "train = pd.read_csv(\"/content/gdrive/My Drive/ml-100k/ua.base\", \\\n",
        "                    sep=\"\\t\", names=['user', 'movie', 'rating', 'timestamp'])\n",
        "test = pd.read_csv(\"/content/gdrive/My Drive/ml-100k/ua.test\",\\\n",
        "                   sep=\"\\t\", names=['user', 'movie', 'rating', 'timestamp'])"
      ],
      "execution_count": 69,
      "outputs": []
    },
    {
      "cell_type": "code",
      "metadata": {
        "colab": {
          "base_uri": "https://localhost:8080/",
          "height": 419
        },
        "id": "OzMirlcoYJsI",
        "outputId": "9e664f07-e12b-4b14-ecc5-dbefc9c8de76"
      },
      "source": [
        "train #tes "
      ],
      "execution_count": 70,
      "outputs": [
        {
          "output_type": "execute_result",
          "data": {
            "text/html": [
              "<div>\n",
              "<style scoped>\n",
              "    .dataframe tbody tr th:only-of-type {\n",
              "        vertical-align: middle;\n",
              "    }\n",
              "\n",
              "    .dataframe tbody tr th {\n",
              "        vertical-align: top;\n",
              "    }\n",
              "\n",
              "    .dataframe thead th {\n",
              "        text-align: right;\n",
              "    }\n",
              "</style>\n",
              "<table border=\"1\" class=\"dataframe\">\n",
              "  <thead>\n",
              "    <tr style=\"text-align: right;\">\n",
              "      <th></th>\n",
              "      <th>user</th>\n",
              "      <th>movie</th>\n",
              "      <th>rating</th>\n",
              "      <th>timestamp</th>\n",
              "    </tr>\n",
              "  </thead>\n",
              "  <tbody>\n",
              "    <tr>\n",
              "      <th>0</th>\n",
              "      <td>1</td>\n",
              "      <td>1</td>\n",
              "      <td>5</td>\n",
              "      <td>874965758</td>\n",
              "    </tr>\n",
              "    <tr>\n",
              "      <th>1</th>\n",
              "      <td>1</td>\n",
              "      <td>2</td>\n",
              "      <td>3</td>\n",
              "      <td>876893171</td>\n",
              "    </tr>\n",
              "    <tr>\n",
              "      <th>2</th>\n",
              "      <td>1</td>\n",
              "      <td>3</td>\n",
              "      <td>4</td>\n",
              "      <td>878542960</td>\n",
              "    </tr>\n",
              "    <tr>\n",
              "      <th>3</th>\n",
              "      <td>1</td>\n",
              "      <td>4</td>\n",
              "      <td>3</td>\n",
              "      <td>876893119</td>\n",
              "    </tr>\n",
              "    <tr>\n",
              "      <th>4</th>\n",
              "      <td>1</td>\n",
              "      <td>5</td>\n",
              "      <td>3</td>\n",
              "      <td>889751712</td>\n",
              "    </tr>\n",
              "    <tr>\n",
              "      <th>...</th>\n",
              "      <td>...</td>\n",
              "      <td>...</td>\n",
              "      <td>...</td>\n",
              "      <td>...</td>\n",
              "    </tr>\n",
              "    <tr>\n",
              "      <th>90565</th>\n",
              "      <td>943</td>\n",
              "      <td>1047</td>\n",
              "      <td>2</td>\n",
              "      <td>875502146</td>\n",
              "    </tr>\n",
              "    <tr>\n",
              "      <th>90566</th>\n",
              "      <td>943</td>\n",
              "      <td>1074</td>\n",
              "      <td>4</td>\n",
              "      <td>888640250</td>\n",
              "    </tr>\n",
              "    <tr>\n",
              "      <th>90567</th>\n",
              "      <td>943</td>\n",
              "      <td>1188</td>\n",
              "      <td>3</td>\n",
              "      <td>888640250</td>\n",
              "    </tr>\n",
              "    <tr>\n",
              "      <th>90568</th>\n",
              "      <td>943</td>\n",
              "      <td>1228</td>\n",
              "      <td>3</td>\n",
              "      <td>888640275</td>\n",
              "    </tr>\n",
              "    <tr>\n",
              "      <th>90569</th>\n",
              "      <td>943</td>\n",
              "      <td>1330</td>\n",
              "      <td>3</td>\n",
              "      <td>888692465</td>\n",
              "    </tr>\n",
              "  </tbody>\n",
              "</table>\n",
              "<p>90570 rows × 4 columns</p>\n",
              "</div>"
            ],
            "text/plain": [
              "       user  movie  rating  timestamp\n",
              "0         1      1       5  874965758\n",
              "1         1      2       3  876893171\n",
              "2         1      3       4  878542960\n",
              "3         1      4       3  876893119\n",
              "4         1      5       3  889751712\n",
              "...     ...    ...     ...        ...\n",
              "90565   943   1047       2  875502146\n",
              "90566   943   1074       4  888640250\n",
              "90567   943   1188       3  888640250\n",
              "90568   943   1228       3  888640275\n",
              "90569   943   1330       3  888692465\n",
              "\n",
              "[90570 rows x 4 columns]"
            ]
          },
          "metadata": {},
          "execution_count": 70
        }
      ]
    },
    {
      "cell_type": "code",
      "metadata": {
        "id": "1c-KFM-9XRZ1"
      },
      "source": [
        "#pytorch tensor 데이터로 변환\n",
        "\n",
        "items = torch.LongTensor(train['movie'])\n",
        "users = torch.LongTensor(train['user'])\n",
        "ratings = torch.FloatTensor(train['rating'])\n",
        "items_test = torch.LongTensor(test['movie'])\n",
        "users_test = torch.LongTensor(test['user'])\n",
        "ratings_test = torch.FloatTensor(test['rating'])"
      ],
      "execution_count": 71,
      "outputs": []
    },
    {
      "cell_type": "code",
      "metadata": {
        "colab": {
          "base_uri": "https://localhost:8080/"
        },
        "id": "uUab0PjrYlbs",
        "outputId": "30f86226-845f-44f1-8938-946154a424c0"
      },
      "source": [
        "items.shape"
      ],
      "execution_count": 72,
      "outputs": [
        {
          "output_type": "execute_result",
          "data": {
            "text/plain": [
              "torch.Size([90570])"
            ]
          },
          "metadata": {},
          "execution_count": 72
        }
      ]
    },
    {
      "cell_type": "markdown",
      "metadata": {
        "id": "6pWJXoaHXXHI"
      },
      "source": [
        "Latent Factor Model"
      ]
    },
    {
      "cell_type": "code",
      "metadata": {
        "colab": {
          "base_uri": "https://localhost:8080/"
        },
        "id": "45lWrX2AXcI-",
        "outputId": "64d397f5-b7a0-4656-860f-35b962ba9b3d"
      },
      "source": [
        "rank = 10 #사용자 vector, 아이템 vector의 차원\n",
        "numItems = items.max() + 1  #사용자수\n",
        "numUsers = users.max() + 1  #아이템수\n",
        "P = torch.randn(numItems, rank, requires_grad=True) #아이템 메트릭스 \n",
        "Q = torch.randn(numUsers, rank, requires_grad=True) #사용자 메트릭스\n",
        "\n",
        "\n",
        "\n",
        "#기본 MatrixFactorization구현\n",
        "\n",
        "# Matplotlib으로epoch마다TrainingMSE그려보기\n",
        "X = []\n",
        "Y = []\n",
        "Y_test=[] # Matplotlib으로 epoch마다 TestMSE 그려보기\n",
        "\n",
        "\n",
        "optimizer = torch.optim.Adam([P, Q], lr= 0.1)\n",
        "for epoch in range(1001):\n",
        "  hypothesis = torch. sum(P[items] * Q[users], dim= 1) #해당하는 행 뽑기 -> 내적\n",
        "  cost = F.mse_loss(hypothesis ,ratings)\n",
        "  optimizer.zero_grad()\n",
        "  cost.backward()\n",
        "  optimizer.step()\n",
        "  X.append(epoch)\n",
        "  Y.append(cost) #training mse\n",
        "\n",
        "    \n",
        "  with torch.no_grad():\n",
        "    hypo_test = torch.sum(P[items_test] * Q[users_test], dim=1)\n",
        "    cost_test = F.mse_loss(hypo_test, ratings_test)\n",
        "    Y_test.append(cost_test)\n",
        "  if epoch % 100 == 0: \n",
        "    print(\"epoch: {}, cost: {:.6f}, cost_test: {:.6f}\".format(epoch, cost.item(), cost_test.item()))"
      ],
      "execution_count": 79,
      "outputs": [
        {
          "output_type": "stream",
          "name": "stdout",
          "text": [
            "epoch: 0, cost: 23.650812, cost_test: 21.813360\n",
            "epoch: 100, cost: 0.562305, cost_test: 1.552424\n",
            "epoch: 200, cost: 0.494726, cost_test: 1.917310\n",
            "epoch: 300, cost: 0.471656, cost_test: 2.289806\n",
            "epoch: 400, cost: 0.460840, cost_test: 2.740892\n",
            "epoch: 500, cost: 0.454906, cost_test: 3.213548\n",
            "epoch: 600, cost: 0.451151, cost_test: 3.693202\n",
            "epoch: 700, cost: 0.448623, cost_test: 4.199843\n",
            "epoch: 800, cost: 0.446755, cost_test: 4.792762\n",
            "epoch: 900, cost: 0.445324, cost_test: 5.457215\n",
            "epoch: 1000, cost: 0.444149, cost_test: 6.122405\n"
          ]
        }
      ]
    },
    {
      "cell_type": "code",
      "metadata": {
        "colab": {
          "base_uri": "https://localhost:8080/"
        },
        "id": "xujZv-aAaGsA",
        "outputId": "d6e09ab1-e359-41a7-b3e4-067acaf34986"
      },
      "source": [
        "#test\n",
        "\n",
        "\n",
        "print(P[1])\n",
        "print(Q[1])\n",
        "print((P[1]*Q[1]).sum())"
      ],
      "execution_count": 80,
      "outputs": [
        {
          "output_type": "stream",
          "name": "stdout",
          "text": [
            "tensor([-0.7987,  0.3445,  0.7384, -0.3411,  1.3280,  0.4982, -0.3092,  0.4111,\n",
            "        -0.8127,  0.6999], grad_fn=<SelectBackward>)\n",
            "tensor([-1.2966, -0.3319,  0.5827, -0.1542,  0.6803,  0.9905,  0.0605,  0.3555,\n",
            "        -1.1026,  0.4204], grad_fn=<SelectBackward>)\n",
            "tensor(4.1188, grad_fn=<SumBackward0>)\n"
          ]
        }
      ]
    },
    {
      "cell_type": "code",
      "metadata": {
        "colab": {
          "base_uri": "https://localhost:8080/",
          "height": 279
        },
        "id": "022y4Oy5a_t8",
        "outputId": "1b0702d0-e9b5-444b-e197-a8ec045f58af"
      },
      "source": [
        "# Matplotlib으로epoch마다TrainingMSE그려보기\n",
        "\n",
        "plt.ylabel(\"MSE\")\n",
        "plt.xlabel(\"Epoch\")\n",
        "plt.plot(X,Y, c=\"blue\", label=\"Training MSE\")\n",
        "plt.plot(X,Y_test,c=\"red\",label=\"Test MSE\")\n",
        "plt.legend()\n",
        "plt.show()"
      ],
      "execution_count": 81,
      "outputs": [
        {
          "output_type": "display_data",
          "data": {
            "image/png": "[encoded data removed]",
            "text/plain": [
              "<Figure size 432x288 with 1 Axes>"
            ]
          },
          "metadata": {
            "needs_background": "light"
          }
        }
      ]
    },
    {
      "cell_type": "code",
      "metadata": {
        "colab": {
          "base_uri": "https://localhost:8080/"
        },
        "id": "TmywX8NzcD6l",
        "outputId": "4b0b3c45-9d5c-41a1-b03f-0a2dd1564590"
      },
      "source": [
        "print((P**2).sum())\n",
        "print((Q**2).sum())"
      ],
      "execution_count": 82,
      "outputs": [
        {
          "output_type": "stream",
          "name": "stdout",
          "text": [
            "tensor(29771.0273, grad_fn=<SumBackward0>)\n",
            "tensor(14372.4590, grad_fn=<SumBackward0>)\n"
          ]
        }
      ]
    },
    {
      "cell_type": "markdown",
      "metadata": {
        "id": "ELL4IwKgcy4a"
      },
      "source": [
        "Regularization"
      ]
    },
    {
      "cell_type": "code",
      "metadata": {
        "colab": {
          "base_uri": "https://localhost:8080/"
        },
        "id": "PAw5VgEAc29N",
        "outputId": "4bc0b6f0-907e-4d74-c63a-cef42e2b90b0"
      },
      "source": [
        "rank = 10 #사용자 vector, 아이템 vector의 차원\n",
        "numItems = items.max() + 1  #사용자수\n",
        "numUsers = users.max() + 1  #아이템수\n",
        "P = torch.randn(numItems, rank, requires_grad=True) #아이템 메트릭스 \n",
        "Q = torch.randn(numUsers, rank, requires_grad=True) #사용자 메트릭스\n",
        "\n",
        "\n",
        "\n",
        "#기본 MatrixFactorization구현\n",
        "\n",
        "# Matplotlib으로epoch마다TrainingMSE그려보기\n",
        "X = []\n",
        "Y = []\n",
        "Y_test=[] # Matplotlib으로 epoch마다 TestMSE 그려보기\n",
        "\n",
        "# Regularization 추가하기\n",
        "lambda1 = 0.0001\n",
        "lambda2 = 0.0001\n",
        "\n",
        "optimizer = torch.optim.Adam([P, Q], lr= 0.1)\n",
        "for epoch in range(1001):\n",
        "  hypothesis = torch. sum(P[items] * Q[users], dim= 1) #해당하는 행 뽑기 -> 내적\n",
        "  mse = F.mse_loss(hypothesis ,ratings)\n",
        "  \n",
        "  cost = mse+lambda1 * torch.sum(P ** 2) + lambda2 * torch.sum(Q ** 2)\n",
        "  optimizer.zero_grad()\n",
        "  cost.backward()\n",
        "  optimizer.step()\n",
        "  X.append(epoch)\n",
        "  Y.append(mse.item()) #training mse\n",
        "  \n",
        "   \n",
        "  with torch.no_grad():\n",
        "    hypo_test = torch.sum(P[items_test] * Q[users_test], dim=1)\n",
        "    mse_test = F.mse_loss(hypo_test, ratings_test)\n",
        "    Y_test.append(mse_test.item())\n",
        "  if epoch % 100 == 0: \n",
        "    print(\"epoch: {}, mse: {}, mse_test: {}\" .format(epoch, mse,mse_test))"
      ],
      "execution_count": 83,
      "outputs": [
        {
          "output_type": "stream",
          "name": "stdout",
          "text": [
            "epoch: 0, mse: 23.6114501953125, mse_test: 21.964406967163086\n",
            "epoch: 100, mse: 0.6726987957954407, mse_test: 1.04421865940094\n",
            "epoch: 200, mse: 0.637549102306366, mse_test: 1.0567642450332642\n",
            "epoch: 300, mse: 0.6305875182151794, mse_test: 1.0603175163269043\n",
            "epoch: 400, mse: 0.6278048753738403, mse_test: 1.0584609508514404\n",
            "epoch: 500, mse: 0.6266433596611023, mse_test: 1.056998610496521\n",
            "epoch: 600, mse: 0.6263669729232788, mse_test: 1.0563609600067139\n",
            "epoch: 700, mse: 0.6262993812561035, mse_test: 1.056047797203064\n",
            "epoch: 800, mse: 0.6262668967247009, mse_test: 1.055917739868164\n",
            "epoch: 900, mse: 0.6262362003326416, mse_test: 1.0559062957763672\n",
            "epoch: 1000, mse: 0.6262077689170837, mse_test: 1.0559552907943726\n"
          ]
        }
      ]
    },
    {
      "cell_type": "code",
      "metadata": {
        "colab": {
          "base_uri": "https://localhost:8080/",
          "height": 279
        },
        "id": "R3IdSwIgdgMj",
        "outputId": "77a9b590-e263-446d-a1a1-7acf5280f02c"
      },
      "source": [
        "plt.ylabel(\"MSE\")\n",
        "plt.xlabel(\"Epoch\")\n",
        "plt.plot(X,Y, c=\"blue\", label=\"Training MSE\")\n",
        "plt.plot(X,Y_test,c=\"red\",label=\"Test MSE\")\n",
        "plt.legend()\n",
        "plt.show()\n",
        "#overfittig 없음!"
      ],
      "execution_count": 84,
      "outputs": [
        {
          "output_type": "display_data",
          "data": {
            "image/png": "[encoded data removed]",
            "text/plain": [
              "<Figure size 432x288 with 1 Axes>"
            ]
          },
          "metadata": {
            "needs_background": "light"
          }
        }
      ]
    },
    {
      "cell_type": "markdown",
      "metadata": {
        "id": "H-JQP85CoEe_"
      },
      "source": [
        "# Bias"
      ]
    },
    {
      "cell_type": "code",
      "metadata": {
        "colab": {
          "base_uri": "https://localhost:8080/"
        },
        "id": "X1BMSm9dwp13",
        "outputId": "9bd5201e-2072-40f7-e19c-a531ff0d381d"
      },
      "source": [
        " #bias 추가하기\n",
        "\n",
        "rank = 10 #사용자 vector, 아이템 vector의 차원\n",
        "numItems = items.max() + 1  #사용자수\n",
        "numUsers = users.max() + 1  #아이템수\n",
        "P = torch.randn(numItems, rank, requires_grad=True) #아이템 메트릭스 \n",
        "Q = torch.randn(numUsers, rank, requires_grad=True) #사용자 메트릭스\n",
        "bias_item = torch.randn(numItems, requires_grad=True)\n",
        "bias_user = torch.randn(numUsers, requires_grad=True)\n",
        "mean = (ratings.sum() / len(ratings)).item()\n",
        "\n",
        "\n",
        "#기본 MatrixFactorization구현\n",
        "\n",
        "# Matplotlib으로epoch마다TrainingMSE그려보기\n",
        "X = []\n",
        "Y = []\n",
        "Y_test=[] # Matplotlib으로 epoch마다 TestMSE 그려보기\n",
        "\n",
        "# Regularization 추가하기\n",
        "lambda1 = 0.0001\n",
        "lambda2 = 0.0001\n",
        "\n",
        "lambda3 = 0.0001 #bias_item\n",
        "lambda4 = 0.0001  #bias_user\n",
        "\n",
        "\n",
        "optimizer = torch.optim.Adam([P, Q, bias_item, bias_user], lr=0.1)\n",
        "for epoch in range(1001):\n",
        "  hypothesis = torch. sum(P[items] * Q[users], dim= 1)\\\n",
        "  + mean + bias_item[items] +bias_user[users]\n",
        "  mse = F.mse_loss(hypothesis ,ratings)\n",
        "  \n",
        "  cost = mse+lambda1 * torch.sum(P ** 2) + lambda2 * torch.sum(Q ** 2)+\\\n",
        "  lambda3 * torch.sum(bias_item ** 2) + lambda4 * torch.sum(bias_user ** 2)\n",
        "\n",
        "  optimizer.zero_grad()\n",
        "  cost.backward()\n",
        "  optimizer.step()\n",
        "  X.append(epoch)\n",
        "  Y.append(mse.item()) #training mse\n",
        "  \n",
        "   \n",
        "  with torch.no_grad():\n",
        "    hypo_test = torch.sum(P[items_test] * Q[users_test], dim=1)+\\\n",
        "    + mean + bias_item[items_test] +bias_user[users_test]\n",
        "    mse_test = F.mse_loss(hypo_test, ratings_test)\n",
        "    Y_test.append(mse_test.item())\n",
        "  if epoch % 100 == 0: \n",
        "    print(\"epoch: {}, mse: {}, mse_test: {}\" .format(epoch, mse,mse_test))"
      ],
      "execution_count": 90,
      "outputs": [
        {
          "output_type": "stream",
          "name": "stdout",
          "text": [
            "epoch: 0, mse: 13.24591064453125, mse_test: 10.548763275146484\n",
            "epoch: 100, mse: 0.6057204008102417, mse_test: 0.8808915019035339\n",
            "epoch: 200, mse: 0.5780660510063171, mse_test: 0.8724049925804138\n",
            "epoch: 300, mse: 0.5749489068984985, mse_test: 0.8682328462600708\n",
            "epoch: 400, mse: 0.5737254619598389, mse_test: 0.8662109375\n",
            "epoch: 500, mse: 0.5731871128082275, mse_test: 0.8666783571243286\n",
            "epoch: 600, mse: 0.5729420781135559, mse_test: 0.8673415184020996\n",
            "epoch: 700, mse: 0.5727258324623108, mse_test: 0.8677353858947754\n",
            "epoch: 800, mse: 0.5725242495536804, mse_test: 0.8679314255714417\n",
            "epoch: 900, mse: 0.5723900198936462, mse_test: 0.8681086301803589\n",
            "epoch: 1000, mse: 0.5723158121109009, mse_test: 0.8682851791381836\n"
          ]
        }
      ]
    },
    {
      "cell_type": "code",
      "metadata": {
        "colab": {
          "base_uri": "https://localhost:8080/",
          "height": 279
        },
        "id": "VjeRoyi2wVFG",
        "outputId": "6cfeaa52-9948-4b6d-ee82-a6fc1ae43b8c"
      },
      "source": [
        "plt.ylabel(\"Cost\")\n",
        "plt.xlabel(\"Epoch\")\n",
        "plt.plot(X,Y, c=\"blue\", label=\"Training MSE\")\n",
        "plt.plot(X,Y_test, c=\"red\", label=\"Test MSE\")\n",
        "plt.legend()\n",
        "plt.show()"
      ],
      "execution_count": 91,
      "outputs": [
        {
          "output_type": "display_data",
          "data": {
            "image/png": "[encoded data removed]",
            "text/plain": [
              "<Figure size 432x288 with 1 Axes>"
            ]
          },
          "metadata": {
            "needs_background": "light"
          }
        }
      ]
    },
    {
      "cell_type": "markdown",
      "metadata": {
        "id": "kRZxA2Fg4bVE"
      },
      "source": [
        "#TEST MSE 최소로 만들기"
      ]
    },
    {
      "cell_type": "code",
      "metadata": {
        "colab": {
          "base_uri": "https://localhost:8080/"
        },
        "id": "x_WtKLxq4h2M",
        "outputId": "dd957cc3-fa6d-43f4-d79e-671bdebb8ae7"
      },
      "source": [
        " #bias 추가하기\n",
        "\n",
        "rank = 10 #rank는 mse의 범위\n",
        "numItems = items.max() + 1  #사용자수\n",
        "numUsers = users.max() + 1  #아이템수\n",
        "P = torch.randn(numItems, rank, requires_grad=True) #아이템 메트릭스 \n",
        "Q = torch.randn(numUsers, rank, requires_grad=True) #사용자 메트릭스\n",
        "bias_item = torch.randn(numItems, requires_grad=True)\n",
        "bias_user = torch.randn(numUsers, requires_grad=True)\n",
        "mean = (ratings.sum() / len(ratings)).item()\n",
        "\n",
        "\n",
        "#기본 MatrixFactorization구현\n",
        "\n",
        "# Matplotlib으로epoch마다TrainingMSE그려보기\n",
        "X = []\n",
        "Y = []\n",
        "Y_test=[] # Matplotlib으로 epoch마다 TestMSE 그려보기\n",
        "\n",
        "# Regularization 추가하기\n",
        "lambda1 = 0.0001\n",
        "lambda2 = 0.0001\n",
        "''' case1: 늘렸는데 큰 값의 비중이 높아져서 그런가 값이 커짐\n",
        "lambda3 = 0.001 #bias_item\n",
        "lambda4 = 0.001  #bias_user\n",
        "'''\n",
        "\n",
        "lambda3 = 0.00009 #bias_item\n",
        "lambda4 = 0.00009  #bias_user\n",
        "\n",
        "\n",
        "\n",
        "optimizer = torch.optim.Adam([P, Q, bias_item, bias_user], lr=0.1)\n",
        "for epoch in range(1001):\n",
        "  hypothesis = torch. sum(P[items] * Q[users], dim= 1)\\\n",
        "  + mean + bias_item[items] +bias_user[users]\n",
        "  mse = F.mse_loss(hypothesis ,ratings)\n",
        "  \n",
        "  cost = mse+lambda1 * torch.sum(P ** 2) + lambda2 * torch.sum(Q ** 2)+\\\n",
        "  lambda3 * torch.sum(bias_item ** 2) + lambda4 * torch.sum(bias_user ** 2)\n",
        "\n",
        "  optimizer.zero_grad()\n",
        "  cost.backward()\n",
        "  optimizer.step()\n",
        "  \n",
        "  \n",
        "   \n",
        "  with torch.no_grad():\n",
        "    X.append(epoch)\n",
        "    Y.append(mse.item()) #training mse\n",
        "    hypo_test = torch.sum(P[items_test] * Q[users_test], dim=1)+\\\n",
        "    + mean + bias_item[items_test] +bias_user[users_test]\n",
        "    mse_test = F.mse_loss(hypo_test, ratings_test)\n",
        "    Y_test.append(mse_test.item())\n",
        "  if epoch % 100 == 0: \n",
        "    print(\"epoch: {}, mse: {}, mse_test: {}\" .format(epoch, mse,mse_test))\n",
        "\n",
        "\n",
        "\n",
        "  "
      ],
      "execution_count": 116,
      "outputs": [
        {
          "output_type": "stream",
          "name": "stdout",
          "text": [
            "epoch: 0, mse: 13.167290687561035, mse_test: 10.433516502380371\n",
            "epoch: 100, mse: 0.6025863289833069, mse_test: 0.8751099705696106\n",
            "epoch: 200, mse: 0.5768218636512756, mse_test: 0.872869610786438\n",
            "epoch: 300, mse: 0.5731487274169922, mse_test: 0.8719893097877502\n",
            "epoch: 400, mse: 0.5721280574798584, mse_test: 0.871144711971283\n",
            "epoch: 500, mse: 0.5717028975486755, mse_test: 0.8705981373786926\n",
            "epoch: 600, mse: 0.5714956521987915, mse_test: 0.8696905374526978\n",
            "epoch: 700, mse: 0.5714011192321777, mse_test: 0.8688993453979492\n",
            "epoch: 800, mse: 0.571357011795044, mse_test: 0.8683700561523438\n",
            "epoch: 900, mse: 0.571337103843689, mse_test: 0.8680714964866638\n",
            "epoch: 1000, mse: 0.5713304877281189, mse_test: 0.8678775429725647\n"
          ]
        }
      ]
    },
    {
      "cell_type": "markdown",
      "metadata": {
        "id": "FJmVHscCGyJH"
      },
      "source": [
        "bias 를 이리저리 돌려도 mse_test가 낮아지기는 커녕 높아져만 갑니다..\n",
        "인터넷에 구글링해본 결과 cross validation(교차검증)을 사용하면 된다고 찾긴하였지만\n",
        "배우지 못한 내용이라 코드를 봐도 이해가 가지 않아.. 이렇게 글을 작성하게 되었습니다."
      ]
    }
  ]
}