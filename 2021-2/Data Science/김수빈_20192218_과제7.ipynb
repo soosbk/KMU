{
  "nbformat": 4,
  "nbformat_minor": 0,
  "metadata": {
    "colab": {
      "name": "김수빈_20192218_과제7.ipynb",
      "provenance": [],
      "collapsed_sections": []
    },
    "kernelspec": {
      "name": "python3",
      "display_name": "Python 3"
    },
    "language_info": {
      "name": "python"
    }
  },
  "cells": [
    {
      "cell_type": "code",
      "metadata": {
        "id": "yesIm2ZtUIjn"
      },
      "source": [
        "# 사용할 모듈 import 하기\n",
        " \n",
        "import matplotlib.pyplot as plt\n",
        "import random\n",
        "from tqdm import tqdm #progress bar"
      ],
      "execution_count": 118,
      "outputs": []
    },
    {
      "cell_type": "code",
      "metadata": {
        "colab": {
          "base_uri": "https://localhost:8080/"
        },
        "id": "p7d-xYS6V10c",
        "outputId": "c119ad3d-1181-4d1d-889c-419ecc909682"
      },
      "source": [
        "data = []\n",
        "f=open('iris.data', 'r')\n",
        "\n",
        "for line in f:\n",
        "  try:\n",
        "    items = line.strip().split(\",\")\n",
        "    float_items=[float(var) for var in items[:-1]]\n",
        "    \n",
        "    data.append((float_items,items[-1]))\n",
        "  except: pass\n",
        "\n",
        "data=data[:-1] #마지막 D가 비워져 있기 때문에\n",
        "print(data)\n",
        "f.close()"
      ],
      "execution_count": 119,
      "outputs": [
        {
          "output_type": "stream",
          "name": "stdout",
          "text": [
            "[([5.1, 3.5, 1.4, 0.2], 'Iris-setosa'), ([4.9, 3.0, 1.4, 0.2], 'Iris-setosa'), ([4.7, 3.2, 1.3, 0.2], 'Iris-setosa'), ([4.6, 3.1, 1.5, 0.2], 'Iris-setosa'), ([5.0, 3.6, 1.4, 0.2], 'Iris-setosa'), ([5.4, 3.9, 1.7, 0.4], 'Iris-setosa'), ([4.6, 3.4, 1.4, 0.3], 'Iris-setosa'), ([5.0, 3.4, 1.5, 0.2], 'Iris-setosa'), ([4.4, 2.9, 1.4, 0.2], 'Iris-setosa'), ([4.9, 3.1, 1.5, 0.1], 'Iris-setosa'), ([5.4, 3.7, 1.5, 0.2], 'Iris-setosa'), ([4.8, 3.4, 1.6, 0.2], 'Iris-setosa'), ([4.8, 3.0, 1.4, 0.1], 'Iris-setosa'), ([4.3, 3.0, 1.1, 0.1], 'Iris-setosa'), ([5.8, 4.0, 1.2, 0.2], 'Iris-setosa'), ([5.7, 4.4, 1.5, 0.4], 'Iris-setosa'), ([5.4, 3.9, 1.3, 0.4], 'Iris-setosa'), ([5.1, 3.5, 1.4, 0.3], 'Iris-setosa'), ([5.7, 3.8, 1.7, 0.3], 'Iris-setosa'), ([5.1, 3.8, 1.5, 0.3], 'Iris-setosa'), ([5.4, 3.4, 1.7, 0.2], 'Iris-setosa'), ([5.1, 3.7, 1.5, 0.4], 'Iris-setosa'), ([4.6, 3.6, 1.0, 0.2], 'Iris-setosa'), ([5.1, 3.3, 1.7, 0.5], 'Iris-setosa'), ([4.8, 3.4, 1.9, 0.2], 'Iris-setosa'), ([5.0, 3.0, 1.6, 0.2], 'Iris-setosa'), ([5.0, 3.4, 1.6, 0.4], 'Iris-setosa'), ([5.2, 3.5, 1.5, 0.2], 'Iris-setosa'), ([5.2, 3.4, 1.4, 0.2], 'Iris-setosa'), ([4.7, 3.2, 1.6, 0.2], 'Iris-setosa'), ([4.8, 3.1, 1.6, 0.2], 'Iris-setosa'), ([5.4, 3.4, 1.5, 0.4], 'Iris-setosa'), ([5.2, 4.1, 1.5, 0.1], 'Iris-setosa'), ([5.5, 4.2, 1.4, 0.2], 'Iris-setosa'), ([4.9, 3.1, 1.5, 0.1], 'Iris-setosa'), ([5.0, 3.2, 1.2, 0.2], 'Iris-setosa'), ([5.5, 3.5, 1.3, 0.2], 'Iris-setosa'), ([4.9, 3.1, 1.5, 0.1], 'Iris-setosa'), ([4.4, 3.0, 1.3, 0.2], 'Iris-setosa'), ([5.1, 3.4, 1.5, 0.2], 'Iris-setosa'), ([5.0, 3.5, 1.3, 0.3], 'Iris-setosa'), ([4.5, 2.3, 1.3, 0.3], 'Iris-setosa'), ([4.4, 3.2, 1.3, 0.2], 'Iris-setosa'), ([5.0, 3.5, 1.6, 0.6], 'Iris-setosa'), ([5.1, 3.8, 1.9, 0.4], 'Iris-setosa'), ([4.8, 3.0, 1.4, 0.3], 'Iris-setosa'), ([5.1, 3.8, 1.6, 0.2], 'Iris-setosa'), ([4.6, 3.2, 1.4, 0.2], 'Iris-setosa'), ([5.3, 3.7, 1.5, 0.2], 'Iris-setosa'), ([5.0, 3.3, 1.4, 0.2], 'Iris-setosa'), ([7.0, 3.2, 4.7, 1.4], 'Iris-versicolor'), ([6.4, 3.2, 4.5, 1.5], 'Iris-versicolor'), ([6.9, 3.1, 4.9, 1.5], 'Iris-versicolor'), ([5.5, 2.3, 4.0, 1.3], 'Iris-versicolor'), ([6.5, 2.8, 4.6, 1.5], 'Iris-versicolor'), ([5.7, 2.8, 4.5, 1.3], 'Iris-versicolor'), ([6.3, 3.3, 4.7, 1.6], 'Iris-versicolor'), ([4.9, 2.4, 3.3, 1.0], 'Iris-versicolor'), ([6.6, 2.9, 4.6, 1.3], 'Iris-versicolor'), ([5.2, 2.7, 3.9, 1.4], 'Iris-versicolor'), ([5.0, 2.0, 3.5, 1.0], 'Iris-versicolor'), ([5.9, 3.0, 4.2, 1.5], 'Iris-versicolor'), ([6.0, 2.2, 4.0, 1.0], 'Iris-versicolor'), ([6.1, 2.9, 4.7, 1.4], 'Iris-versicolor'), ([5.6, 2.9, 3.6, 1.3], 'Iris-versicolor'), ([6.7, 3.1, 4.4, 1.4], 'Iris-versicolor'), ([5.6, 3.0, 4.5, 1.5], 'Iris-versicolor'), ([5.8, 2.7, 4.1, 1.0], 'Iris-versicolor'), ([6.2, 2.2, 4.5, 1.5], 'Iris-versicolor'), ([5.6, 2.5, 3.9, 1.1], 'Iris-versicolor'), ([5.9, 3.2, 4.8, 1.8], 'Iris-versicolor'), ([6.1, 2.8, 4.0, 1.3], 'Iris-versicolor'), ([6.3, 2.5, 4.9, 1.5], 'Iris-versicolor'), ([6.1, 2.8, 4.7, 1.2], 'Iris-versicolor'), ([6.4, 2.9, 4.3, 1.3], 'Iris-versicolor'), ([6.6, 3.0, 4.4, 1.4], 'Iris-versicolor'), ([6.8, 2.8, 4.8, 1.4], 'Iris-versicolor'), ([6.7, 3.0, 5.0, 1.7], 'Iris-versicolor'), ([6.0, 2.9, 4.5, 1.5], 'Iris-versicolor'), ([5.7, 2.6, 3.5, 1.0], 'Iris-versicolor'), ([5.5, 2.4, 3.8, 1.1], 'Iris-versicolor'), ([5.5, 2.4, 3.7, 1.0], 'Iris-versicolor'), ([5.8, 2.7, 3.9, 1.2], 'Iris-versicolor'), ([6.0, 2.7, 5.1, 1.6], 'Iris-versicolor'), ([5.4, 3.0, 4.5, 1.5], 'Iris-versicolor'), ([6.0, 3.4, 4.5, 1.6], 'Iris-versicolor'), ([6.7, 3.1, 4.7, 1.5], 'Iris-versicolor'), ([6.3, 2.3, 4.4, 1.3], 'Iris-versicolor'), ([5.6, 3.0, 4.1, 1.3], 'Iris-versicolor'), ([5.5, 2.5, 4.0, 1.3], 'Iris-versicolor'), ([5.5, 2.6, 4.4, 1.2], 'Iris-versicolor'), ([6.1, 3.0, 4.6, 1.4], 'Iris-versicolor'), ([5.8, 2.6, 4.0, 1.2], 'Iris-versicolor'), ([5.0, 2.3, 3.3, 1.0], 'Iris-versicolor'), ([5.6, 2.7, 4.2, 1.3], 'Iris-versicolor'), ([5.7, 3.0, 4.2, 1.2], 'Iris-versicolor'), ([5.7, 2.9, 4.2, 1.3], 'Iris-versicolor'), ([6.2, 2.9, 4.3, 1.3], 'Iris-versicolor'), ([5.1, 2.5, 3.0, 1.1], 'Iris-versicolor'), ([5.7, 2.8, 4.1, 1.3], 'Iris-versicolor'), ([6.3, 3.3, 6.0, 2.5], 'Iris-virginica'), ([5.8, 2.7, 5.1, 1.9], 'Iris-virginica'), ([7.1, 3.0, 5.9, 2.1], 'Iris-virginica'), ([6.3, 2.9, 5.6, 1.8], 'Iris-virginica'), ([6.5, 3.0, 5.8, 2.2], 'Iris-virginica'), ([7.6, 3.0, 6.6, 2.1], 'Iris-virginica'), ([4.9, 2.5, 4.5, 1.7], 'Iris-virginica'), ([7.3, 2.9, 6.3, 1.8], 'Iris-virginica'), ([6.7, 2.5, 5.8, 1.8], 'Iris-virginica'), ([7.2, 3.6, 6.1, 2.5], 'Iris-virginica'), ([6.5, 3.2, 5.1, 2.0], 'Iris-virginica'), ([6.4, 2.7, 5.3, 1.9], 'Iris-virginica'), ([6.8, 3.0, 5.5, 2.1], 'Iris-virginica'), ([5.7, 2.5, 5.0, 2.0], 'Iris-virginica'), ([5.8, 2.8, 5.1, 2.4], 'Iris-virginica'), ([6.4, 3.2, 5.3, 2.3], 'Iris-virginica'), ([6.5, 3.0, 5.5, 1.8], 'Iris-virginica'), ([7.7, 3.8, 6.7, 2.2], 'Iris-virginica'), ([7.7, 2.6, 6.9, 2.3], 'Iris-virginica'), ([6.0, 2.2, 5.0, 1.5], 'Iris-virginica'), ([6.9, 3.2, 5.7, 2.3], 'Iris-virginica'), ([5.6, 2.8, 4.9, 2.0], 'Iris-virginica'), ([7.7, 2.8, 6.7, 2.0], 'Iris-virginica'), ([6.3, 2.7, 4.9, 1.8], 'Iris-virginica'), ([6.7, 3.3, 5.7, 2.1], 'Iris-virginica'), ([7.2, 3.2, 6.0, 1.8], 'Iris-virginica'), ([6.2, 2.8, 4.8, 1.8], 'Iris-virginica'), ([6.1, 3.0, 4.9, 1.8], 'Iris-virginica'), ([6.4, 2.8, 5.6, 2.1], 'Iris-virginica'), ([7.2, 3.0, 5.8, 1.6], 'Iris-virginica'), ([7.4, 2.8, 6.1, 1.9], 'Iris-virginica'), ([7.9, 3.8, 6.4, 2.0], 'Iris-virginica'), ([6.4, 2.8, 5.6, 2.2], 'Iris-virginica'), ([6.3, 2.8, 5.1, 1.5], 'Iris-virginica'), ([6.1, 2.6, 5.6, 1.4], 'Iris-virginica'), ([7.7, 3.0, 6.1, 2.3], 'Iris-virginica'), ([6.3, 3.4, 5.6, 2.4], 'Iris-virginica'), ([6.4, 3.1, 5.5, 1.8], 'Iris-virginica'), ([6.0, 3.0, 4.8, 1.8], 'Iris-virginica'), ([6.9, 3.1, 5.4, 2.1], 'Iris-virginica'), ([6.7, 3.1, 5.6, 2.4], 'Iris-virginica'), ([6.9, 3.1, 5.1, 2.3], 'Iris-virginica'), ([5.8, 2.7, 5.1, 1.9], 'Iris-virginica'), ([6.8, 3.2, 5.9, 2.3], 'Iris-virginica'), ([6.7, 3.3, 5.7, 2.5], 'Iris-virginica'), ([6.7, 3.0, 5.2, 2.3], 'Iris-virginica'), ([6.3, 2.5, 5.0, 1.9], 'Iris-virginica'), ([6.5, 3.0, 5.2, 2.0], 'Iris-virginica'), ([6.2, 3.4, 5.4, 2.3], 'Iris-virginica'), ([5.9, 3.0, 5.1, 1.8], 'Iris-virginica')]\n"
          ]
        }
      ]
    },
    {
      "cell_type": "code",
      "metadata": {
        "colab": {
          "base_uri": "https://localhost:8080/",
          "height": 268
        },
        "id": "5Ulc87QoU_e4",
        "outputId": "5a4fb963-00b7-4d5b-cc86-fe8d4e59a4f8"
      },
      "source": [
        "# 데이터 살펴보기\n",
        "\n",
        "classes={y for x,y in data}  #Iris-~\n",
        "\n",
        "for c in classes:\n",
        "  X0=[]\n",
        "  X1=[]\n",
        "  for x,y in data:\n",
        "    if y==c:\n",
        "      X0.append(x[0])\n",
        "      X1.append(x[1])\n",
        "  plt.scatter(X0,X1)\n",
        "\n",
        "\n",
        "plt.show()"
      ],
      "execution_count": 120,
      "outputs": [
        {
          "output_type": "display_data",
          "data": {
            "image/png": "[encoded data removed]",
            "text/plain": [
              "<Figure size 432x288 with 1 Axes>"
            ]
          },
          "metadata": {
            "needs_background": "light"
          }
        }
      ]
    },
    {
      "cell_type": "code",
      "metadata": {
        "colab": {
          "base_uri": "https://localhost:8080/"
        },
        "id": "rEaBsHx7XYso",
        "outputId": "687b6f01-c9dc-4138-871d-c15115e265aa"
      },
      "source": [
        "#test 와 Train set 분리\n",
        "\n",
        "random.shuffle(data)\n",
        "test=data[:-30]\n",
        "train=data[-30:]\n",
        "\n",
        "print(len(test),len(train))\n"
      ],
      "execution_count": 121,
      "outputs": [
        {
          "output_type": "stream",
          "name": "stdout",
          "text": [
            "120 30\n"
          ]
        }
      ]
    },
    {
      "cell_type": "markdown",
      "metadata": {
        "id": "D2OvM0mOFBtM"
      },
      "source": [
        "# KNN"
      ]
    },
    {
      "cell_type": "code",
      "metadata": {
        "id": "9KlIfbkaX2Ym"
      },
      "source": [
        "#euclidean distance\n",
        "\n",
        "\n",
        "\n",
        "def distance(a,b):\n",
        "  sum=0\n",
        "  for va,vb in zip(a,b):\n",
        "    sum+=(vb-va)**2\n",
        "\n",
        "  return sum**0.5"
      ],
      "execution_count": 122,
      "outputs": []
    },
    {
      "cell_type": "code",
      "metadata": {
        "colab": {
          "base_uri": "https://localhost:8080/"
        },
        "id": "HRn51nsKYS-l",
        "outputId": "d121930c-3cb0-42c5-8b52-2b6c206a7f52"
      },
      "source": [
        "#전부 거리 구해서 짧은 것\n",
        "\n",
        "def knn(query,k,train):\n",
        "  train_with_distance=[]\n",
        "  for t in train: #train은 data\n",
        "    d=distance(t[0],query)\n",
        "    train_with_distance.append((d,t[1]))\n",
        "\n",
        "  train_with_distance.sort() #첫째 원소로 정렬\n",
        "  \n",
        "  candidate=train_with_distance[:k] #k개 자르기\n",
        "  \n",
        "\n",
        "  #갯수 세기\n",
        "  count_classes={}\n",
        "  for d,c in candidate:\n",
        "    if c not in count_classes: count_classes[c]=1/(1+d) #가중치\n",
        "    else: count_classes[c]+=(1/(1+d))\n",
        "  \n",
        "  max_val=max(count_classes.items(),key=lambda x: x[1])\n",
        "  #dict 정렬\n",
        "  return max_val[0] #제일 마지막 val(큰값) return\n",
        "  \n",
        "\n",
        "\n",
        "print(knn(test[0][0],10,train))\n"
      ],
      "execution_count": 123,
      "outputs": [
        {
          "output_type": "stream",
          "name": "stdout",
          "text": [
            "Iris-versicolor\n"
          ]
        }
      ]
    },
    {
      "cell_type": "markdown",
      "metadata": {
        "id": "7Vi6nzPqztu7"
      },
      "source": [
        "# TEST"
      ]
    },
    {
      "cell_type": "code",
      "metadata": {
        "colab": {
          "base_uri": "https://localhost:8080/"
        },
        "id": "c9ptTi4vzsfA",
        "outputId": "adf0f60d-2f4b-40eb-96b0-e5eff5c69348"
      },
      "source": [
        "for k in range(1,100):\n",
        "  equal_count=0\n",
        "  for t_vector, ans in test:\n",
        "    test_case=knn(t_vector,k,train)\n",
        "    if test_case==ans: equal_count+=1\n",
        "\n",
        "  accuracy=equal_count/len(test)\n",
        "  print(\"정답률: \",accuracy)"
      ],
      "execution_count": 124,
      "outputs": [
        {
          "output_type": "stream",
          "name": "stdout",
          "text": [
            "정답률:  0.9333333333333333\n",
            "정답률:  0.9333333333333333\n",
            "정답률:  0.925\n",
            "정답률:  0.925\n",
            "정답률:  0.95\n",
            "정답률:  0.9333333333333333\n",
            "정답률:  0.95\n",
            "정답률:  0.9416666666666667\n",
            "정답률:  0.925\n",
            "정답률:  0.9333333333333333\n",
            "정답률:  0.9083333333333333\n",
            "정답률:  0.9083333333333333\n",
            "정답률:  0.8833333333333333\n",
            "정답률:  0.9083333333333333\n",
            "정답률:  0.8833333333333333\n",
            "정답률:  0.9166666666666666\n",
            "정답률:  0.9333333333333333\n",
            "정답률:  0.925\n",
            "정답률:  0.925\n",
            "정답률:  0.9166666666666666\n",
            "정답률:  0.9166666666666666\n",
            "정답률:  0.9166666666666666\n",
            "정답률:  0.9083333333333333\n",
            "정답률:  0.9083333333333333\n",
            "정답률:  0.9083333333333333\n",
            "정답률:  0.9\n",
            "정답률:  0.9\n",
            "정답률:  0.9\n",
            "정답률:  0.9\n",
            "정답률:  0.9\n",
            "정답률:  0.9\n",
            "정답률:  0.9\n",
            "정답률:  0.9\n",
            "정답률:  0.9\n",
            "정답률:  0.9\n",
            "정답률:  0.9\n",
            "정답률:  0.9\n",
            "정답률:  0.9\n",
            "정답률:  0.9\n",
            "정답률:  0.9\n",
            "정답률:  0.9\n",
            "정답률:  0.9\n",
            "정답률:  0.9\n",
            "정답률:  0.9\n",
            "정답률:  0.9\n",
            "정답률:  0.9\n",
            "정답률:  0.9\n",
            "정답률:  0.9\n",
            "정답률:  0.9\n",
            "정답률:  0.9\n",
            "정답률:  0.9\n",
            "정답률:  0.9\n",
            "정답률:  0.9\n",
            "정답률:  0.9\n",
            "정답률:  0.9\n",
            "정답률:  0.9\n",
            "정답률:  0.9\n",
            "정답률:  0.9\n",
            "정답률:  0.9\n",
            "정답률:  0.9\n",
            "정답률:  0.9\n",
            "정답률:  0.9\n",
            "정답률:  0.9\n",
            "정답률:  0.9\n",
            "정답률:  0.9\n",
            "정답률:  0.9\n",
            "정답률:  0.9\n",
            "정답률:  0.9\n",
            "정답률:  0.9\n",
            "정답률:  0.9\n",
            "정답률:  0.9\n",
            "정답률:  0.9\n",
            "정답률:  0.9\n",
            "정답률:  0.9\n",
            "정답률:  0.9\n",
            "정답률:  0.9\n",
            "정답률:  0.9\n",
            "정답률:  0.9\n",
            "정답률:  0.9\n",
            "정답률:  0.9\n",
            "정답률:  0.9\n",
            "정답률:  0.9\n",
            "정답률:  0.9\n",
            "정답률:  0.9\n",
            "정답률:  0.9\n",
            "정답률:  0.9\n",
            "정답률:  0.9\n",
            "정답률:  0.9\n",
            "정답률:  0.9\n",
            "정답률:  0.9\n",
            "정답률:  0.9\n",
            "정답률:  0.9\n",
            "정답률:  0.9\n",
            "정답률:  0.9\n",
            "정답률:  0.9\n",
            "정답률:  0.9\n",
            "정답률:  0.9\n",
            "정답률:  0.9\n",
            "정답률:  0.9\n"
          ]
        }
      ]
    },
    {
      "cell_type": "code",
      "metadata": {
        "colab": {
          "base_uri": "https://localhost:8080/",
          "height": 282
        },
        "id": "_SUzsSih21F4",
        "outputId": "ae710811-e9ef-4217-e033-3049ce087e62"
      },
      "source": [
        "# 통계치..\n",
        "\n",
        "n_trials=100\n",
        "k_siz=100\n",
        "acc_avg=[0]*k_siz\n",
        "\n",
        "train_siz=int(len(data)*0.8)\n",
        "test_siz=len(data)-train_siz\n",
        "\n",
        "\n",
        "for _ in tqdm(range(n_trials)):\n",
        "  random.shuffle(data)\n",
        "  test=data[train_siz:]\n",
        "  train=data[:train_siz]\n",
        "  \n",
        "\n",
        "  for k in range(1,k_siz):\n",
        "    equal_count=0\n",
        "    for t_vector, ans in test:\n",
        "      test_case=knn(t_vector,k,train)\n",
        "      if test_case==ans: equal_count+=1\n",
        "    \n",
        "    acc_avg[k]+=equal_count\n",
        "\n",
        "acc_avg=[ac/(n_trials*len(test)) for ac in acc_avg]\n",
        "\n",
        "\n",
        "plt.plot(range(1,k_siz),acc_avg[1:],\"-o\")\n",
        "plt.show()"
      ],
      "execution_count": 125,
      "outputs": [
        {
          "output_type": "stream",
          "name": "stderr",
          "text": [
            "100%|██████████| 100/100 [01:09<00:00,  1.43it/s]\n"
          ]
        },
        {
          "output_type": "display_data",
          "data": {
            "image/png": "[encoded data removed]",
            "text/plain": [
              "<Figure size 432x288 with 1 Axes>"
            ]
          },
          "metadata": {
            "needs_background": "light"
          }
        }
      ]
    },
    {
      "cell_type": "code",
      "metadata": {
        "colab": {
          "base_uri": "https://localhost:8080/"
        },
        "id": "6hnbS0qf5YTl",
        "outputId": "085ee362-50c0-41f4-940a-02a7edd06459"
      },
      "source": [
        "list(zip(range(1,k_siz),acc_avg[1:]))"
      ],
      "execution_count": 126,
      "outputs": [
        {
          "output_type": "execute_result",
          "data": {
            "text/plain": [
              "[(1, 0.9586666666666667),\n",
              " (2, 0.9586666666666667),\n",
              " (3, 0.9606666666666667),\n",
              " (4, 0.96),\n",
              " (5, 0.9646666666666667),\n",
              " (6, 0.9636666666666667),\n",
              " (7, 0.9653333333333334),\n",
              " (8, 0.9636666666666667),\n",
              " (9, 0.9646666666666667),\n",
              " (10, 0.9643333333333334),\n",
              " (11, 0.967),\n",
              " (12, 0.967),\n",
              " (13, 0.9683333333333334),\n",
              " (14, 0.9673333333333334),\n",
              " (15, 0.968),\n",
              " (16, 0.965),\n",
              " (17, 0.9646666666666667),\n",
              " (18, 0.9626666666666667),\n",
              " (19, 0.9613333333333334),\n",
              " (20, 0.9606666666666667),\n",
              " (21, 0.9573333333333334),\n",
              " (22, 0.955),\n",
              " (23, 0.9556666666666667),\n",
              " (24, 0.9533333333333334),\n",
              " (25, 0.9523333333333334),\n",
              " (26, 0.951),\n",
              " (27, 0.9493333333333334),\n",
              " (28, 0.951),\n",
              " (29, 0.9516666666666667),\n",
              " (30, 0.951),\n",
              " (31, 0.948),\n",
              " (32, 0.953),\n",
              " (33, 0.9503333333333334),\n",
              " (34, 0.9466666666666667),\n",
              " (35, 0.9483333333333334),\n",
              " (36, 0.9483333333333334),\n",
              " (37, 0.9453333333333334),\n",
              " (38, 0.9443333333333334),\n",
              " (39, 0.941),\n",
              " (40, 0.9416666666666667),\n",
              " (41, 0.941),\n",
              " (42, 0.9386666666666666),\n",
              " (43, 0.939),\n",
              " (44, 0.937),\n",
              " (45, 0.934),\n",
              " (46, 0.934),\n",
              " (47, 0.9323333333333333),\n",
              " (48, 0.9293333333333333),\n",
              " (49, 0.928),\n",
              " (50, 0.9266666666666666),\n",
              " (51, 0.9263333333333333),\n",
              " (52, 0.9223333333333333),\n",
              " (53, 0.923),\n",
              " (54, 0.92),\n",
              " (55, 0.9226666666666666),\n",
              " (56, 0.917),\n",
              " (57, 0.919),\n",
              " (58, 0.9166666666666666),\n",
              " (59, 0.919),\n",
              " (60, 0.9153333333333333),\n",
              " (61, 0.916),\n",
              " (62, 0.9123333333333333),\n",
              " (63, 0.9156666666666666),\n",
              " (64, 0.9146666666666666),\n",
              " (65, 0.915),\n",
              " (66, 0.9103333333333333),\n",
              " (67, 0.913),\n",
              " (68, 0.911),\n",
              " (69, 0.912),\n",
              " (70, 0.911),\n",
              " (71, 0.9123333333333333),\n",
              " (72, 0.914),\n",
              " (73, 0.9133333333333333),\n",
              " (74, 0.9136666666666666),\n",
              " (75, 0.9136666666666666),\n",
              " (76, 0.9146666666666666),\n",
              " (77, 0.9166666666666666),\n",
              " (78, 0.9163333333333333),\n",
              " (79, 0.9163333333333333),\n",
              " (80, 0.918),\n",
              " (81, 0.919),\n",
              " (82, 0.919),\n",
              " (83, 0.9193333333333333),\n",
              " (84, 0.919),\n",
              " (85, 0.919),\n",
              " (86, 0.919),\n",
              " (87, 0.919),\n",
              " (88, 0.9193333333333333),\n",
              " (89, 0.9193333333333333),\n",
              " (90, 0.9193333333333333),\n",
              " (91, 0.9196666666666666),\n",
              " (92, 0.9196666666666666),\n",
              " (93, 0.9196666666666666),\n",
              " (94, 0.9196666666666666),\n",
              " (95, 0.9196666666666666),\n",
              " (96, 0.9196666666666666),\n",
              " (97, 0.9196666666666666),\n",
              " (98, 0.9196666666666666),\n",
              " (99, 0.9196666666666666)]"
            ]
          },
          "metadata": {},
          "execution_count": 126
        }
      ]
    }
  ]
}